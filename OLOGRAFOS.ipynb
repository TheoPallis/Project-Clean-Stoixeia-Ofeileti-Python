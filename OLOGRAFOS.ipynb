{
 "cells": [
  {
   "cell_type": "code",
   "execution_count": 79,
   "metadata": {},
   "outputs": [],
   "source": [
    "import numpy as np\n"
   ]
  },
  {
   "cell_type": "code",
   "execution_count": 88,
   "metadata": {},
   "outputs": [],
   "source": [
    "# Get all the digits of the number by position\n",
    "\n",
    "number  = 22\n",
    "str_number = str(number)\n",
    "digits = {}\n",
    "monades = np.arange(1,10)\n",
    "\n",
    "for  x in range(len(str_number)) :\n",
    "    digits[x] = int(str_number[-x])\n",
    "# digits.values()\n",
    "    "
   ]
  },
  {
   "cell_type": "code",
   "execution_count": 89,
   "metadata": {},
   "outputs": [
    {
     "name": "stdout",
     "output_type": "stream",
     "text": [
      "ογδόντα ένα Ευρώ\n"
     ]
    }
   ],
   "source": [
    "# Monades\n",
    "\n",
    "monades_list = [\"ένα/δύο/τρία/τέσσερα/πέντε/έξι/εφτά/οχτώ/εννέα\"]\n",
    "monades_word = ''.join(monades_list).split('/')\n",
    "monades_word = [x + \" Ευρώ\" for x in monades_word]\n",
    "monades_dict  = dict(zip(monades, monades_word))\n",
    "\n",
    "if num_1 in monades_dict.keys() :\n",
    "    monada = monades_dict[num_1]\n",
    "\n",
    "# Dekades\n",
    "dekades_list = ['δέκα/είκοσι/τριάντα/σαράντα/πενήντα/εξήντα/εβδομήντα/ογδόντα/ενενήντα']\n",
    "dekades_word = ''.join(dekades_list).split('/')\n",
    "dekades_word = [x + \" \" for x in dekades_word]\n",
    "dekades_dict  = dict(zip(monades, dekades_word))\n",
    "dekades_dict\n",
    "\n",
    "if num_2 in monades_dict.keys() :\n",
    "    dekada = dekades_dict[num_2]\n",
    "\n",
    "if len(str_number) == 2 :\n",
    "    res = dekada + monada \n",
    "    print(res)"
   ]
  },
  {
   "cell_type": "code",
   "execution_count": 82,
   "metadata": {},
   "outputs": [],
   "source": [
    "class euro :\n",
    "    def init(self, word_list, word_list_split,spaces,num_dict) :\n",
    "        euro.word_list = word_list\n",
    "        euro.word_list_split = word_list_split   \n",
    "        euro.spaces = spaces\n",
    "        euro.num_dict = num_dict\n",
    "        print(word_list)\n",
    "\n",
    "\n",
    "\n",
    "\n",
    "\n",
    "monada  = euro()\n",
    "\n",
    "\n",
    "\n"
   ]
  },
  {
   "cell_type": "code",
   "execution_count": null,
   "metadata": {},
   "outputs": [],
   "source": []
  }
 ],
 "metadata": {
  "kernelspec": {
   "display_name": "extract_word_date",
   "language": "python",
   "name": "python3"
  },
  "language_info": {
   "codemirror_mode": {
    "name": "ipython",
    "version": 3
   },
   "file_extension": ".py",
   "mimetype": "text/x-python",
   "name": "python",
   "nbconvert_exporter": "python",
   "pygments_lexer": "ipython3",
   "version": "3.10.6"
  },
  "orig_nbformat": 4,
  "vscode": {
   "interpreter": {
    "hash": "f73e2b62347a02a6caba1882eddfeb55fe48ff3efe29c70617ad05c7663e38be"
   }
  }
 },
 "nbformat": 4,
 "nbformat_minor": 2
}
