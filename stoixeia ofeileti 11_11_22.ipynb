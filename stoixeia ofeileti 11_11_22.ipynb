{
 "cells": [
  {
   "cell_type": "code",
   "execution_count": null,
   "id": "462bb7e2",
   "metadata": {},
   "outputs": [
    {
     "ename": "",
     "evalue": "",
     "output_type": "error",
     "traceback": [
      "\u001b[1;31mFailed to start the Kernel. \n",
      "\u001b[1;31mFailed to start the Kernel 'frame (Python 3.10.8)'. \n",
      "\u001b[1;31mView Jupyter <a href='command:jupyter.viewOutput'>log</a> for further details. No matching bindings found for serviceIdentifier: Symbol(IInterpreterAutoSelectionService)"
     ]
    }
   ],
   "source": [
    "import pandas as pd\n",
    "import numpy as np\n",
    "import xlrd\n",
    "import os\n",
    "import pprint\n",
    "from tkinter import filedialog as fd\n",
    "os.chdir(r\"C:\\Users\\pallist\\Desktop\\ΤΡΕΧΟΝΤΑ\\testing folder\")\n",
    "from pandas.api.types import is_string_dtype\n",
    "from pandas.api.types import is_numeric_dtype\n",
    "pd.options.display.max_rows = 999"
   ]
  },
  {
   "cell_type": "code",
   "execution_count": null,
   "id": "9d2ae0cf",
   "metadata": {},
   "outputs": [
    {
     "ename": "",
     "evalue": "",
     "output_type": "error",
     "traceback": [
      "\u001b[1;31mFailed to start the Kernel. \n",
      "\u001b[1;31mFailed to start the Kernel 'frame (Python 3.10.8)'. \n",
      "\u001b[1;31mView Jupyter <a href='command:jupyter.viewOutput'>log</a> for further details. No matching bindings found for serviceIdentifier: Symbol(IInterpreterAutoSelectionService)"
     ]
    }
   ],
   "source": [
    "onomata = pd.read_excel(\"ΒΑΣΗ ΟΝΟΜΑΤΩΝ (ΑΡΣΕΝΙΚΑ).xlsx\")\n",
    "lista_onomaton = onomata.iloc[:,1]"
   ]
  },
  {
   "cell_type": "code",
   "execution_count": null,
   "id": "bb169412",
   "metadata": {},
   "outputs": [
    {
     "ename": "",
     "evalue": "",
     "output_type": "error",
     "traceback": [
      "\u001b[1;31mFailed to start the Kernel. \n",
      "\u001b[1;31mFailed to start the Kernel 'frame (Python 3.10.8)'. \n",
      "\u001b[1;31mView Jupyter <a href='command:jupyter.viewOutput'>log</a> for further details. No matching bindings found for serviceIdentifier: Symbol(IInterpreterAutoSelectionService)"
     ]
    }
   ],
   "source": [
    "file= fd.askopenfilename()"
   ]
  },
  {
   "cell_type": "code",
   "execution_count": null,
   "id": "9dfbb310",
   "metadata": {},
   "outputs": [
    {
     "ename": "",
     "evalue": "",
     "output_type": "error",
     "traceback": [
      "\u001b[1;31mFailed to start the Kernel. \n",
      "\u001b[1;31mFailed to start the Kernel 'frame (Python 3.10.8)'. \n",
      "\u001b[1;31mView Jupyter <a href='command:jupyter.viewOutput'>log</a> for further details. No matching bindings found for serviceIdentifier: Symbol(IInterpreterAutoSelectionService)"
     ]
    }
   ],
   "source": [
    "stoixeia = pd.read_excel(file)\n",
    "stoixeia"
   ]
  },
  {
   "cell_type": "code",
   "execution_count": null,
   "id": "39f5d5bf",
   "metadata": {},
   "outputs": [
    {
     "ename": "",
     "evalue": "",
     "output_type": "error",
     "traceback": [
      "\u001b[1;31mFailed to start the Kernel. \n",
      "\u001b[1;31mFailed to start the Kernel 'frame (Python 3.10.8)'. \n",
      "\u001b[1;31mView Jupyter <a href='command:jupyter.viewOutput'>log</a> for further details. No matching bindings found for serviceIdentifier: Symbol(IInterpreterAutoSelectionService)"
     ]
    }
   ],
   "source": [
    "# Insert columns of raw data into a new dataframe (if there is extra informtion about the person, add those columns too)\n",
    "\n",
    "test = pd.DataFrame()\n",
    "test[\"Ton\"] = \"\"\n",
    "test[\"Surname\"] = stoixeia.iloc[:,0]\n",
    "test[\"Name\"] = stoixeia.iloc[:,1]\n",
    "test[\"Father\"] = stoixeia.iloc[:,2]\n",
    "\n",
    "if len(stoixeia.columns) > 3 and not stoixeia.iloc[:,3].str.isnumeric().all():\n",
    "    test[\"City\"] = stoixeia.iloc[:,3]\n",
    "    test[\"Address\"] = stoixeia.iloc[:,4].astype(str)\n",
    "    test[\"Number\"] = stoixeia.iloc[:,5]\n",
    "    test[\"Number\"] = test[\"Number\"].astype(str)\n",
    "    if  is_numeric_dtype(stoixeia.iloc[:,6]):\n",
    "        test[\"TK\"] = stoixeia.iloc[:,6].fillna(0).astype(int).astype(str)\n",
    "    else :\n",
    "        test[\"TK\"]  = \"\"\n",
    "    if is_numeric_dtype(stoixeia.iloc[:,7]):\n",
    "        test[\"ΑΦΜ\"] = stoixeia.iloc[:,7].fillna(0).astype(int).astype(str)\n",
    "    else :\n",
    "        test[\"ΑΦΜ\"]  = \"\"    \n",
    "    test[\"stoixeia\"] = \"\"\n",
    "test.columns"
   ]
  },
  {
   "cell_type": "code",
   "execution_count": null,
   "id": "6238a211",
   "metadata": {},
   "outputs": [
    {
     "ename": "",
     "evalue": "",
     "output_type": "error",
     "traceback": [
      "\u001b[1;31mFailed to start the Kernel. \n",
      "\u001b[1;31mFailed to start the Kernel 'frame (Python 3.10.8)'. \n",
      "\u001b[1;31mView Jupyter <a href='command:jupyter.viewOutput'>log</a> for further details. No matching bindings found for serviceIdentifier: Symbol(IInterpreterAutoSelectionService)"
     ]
    }
   ],
   "source": [
    "# Create hashmap dictionary για τις εξαιρέσεις των άρθρων και πόλεων \n",
    "\n",
    "\n",
    "ton_list = [\"ΜΙΧΑΗΛ\", \"ΕΜΜΑΝΟΥΗΛ\", \"ΣΠΥΡΙΔΩΝ\", \"ΑΧΙΛΛΕΥΣ\", \"ΟΔΥΣΣΕΥΣ\"]\n",
    "\n",
    "\n",
    "\n",
    "keys = [\"ΧΑΝΙΑ\", \"ΦΑΡΣΑΛΑ\", \"ΙΩΑΝΝΙΝΑ\", \"ΣΕΠΟΛΙΑ\", \"ΤΡΙΚΑΛΑ\",\"ΑΝΩ ΛΙΟΣΙΑ\", \"ΚΑΛΥΒΙΑ\", \"ΜΕΓΑΡΑ\",\"ΝΈΟ ΗΡΑΚΛΕΙΟ\", \"ΠΑΛΑΙΟ ΦΑΛΗΡΟ\", \"ΝΕΑ ΙΩΝΙΑ\", \"ΑΓΙΟΙ ΑΝΑΡΓΥΡΟΙ\", \"ΑΓΙΑ ΠΑΡΑΣΚΕΥΗ\"]\n",
    "\n",
    "values = [\"ΧΑΝΙΩΝ\", \"ΦΑΡΣΑΛΩΝ\", \"ΙΩΑΝΝΙΝΩΝ\", \"ΣΕΠΟΛΙΩΝ\",\"ΤΡΙΚΑΛΩΝ\", \"ΑΝΩ ΛΙΟΣΙΩΝ\", \"ΚΑΛΥΒΙΩΝ\", \"ΜΕΓΑΡΩΝ\", \"ΝΕΟΥ ΗΡΑΚΛΕΙΟΥ\", \"ΠΑΛΑΙΟΥ ΦΑΛΗΡΟΥ\", \"ΝΕΑΣ ΙΩΝΙΑΣ\" , \"ΑΓΙΩΝ ΑΝΑΡΓΥΡΩΝ\", \"ΑΓΙΑΣ ΠΑΡΑΣΚΕΥΗΣ\"]\n",
    "\n",
    "city_dict = dict(zip(keys, values))"
   ]
  },
  {
   "cell_type": "code",
   "execution_count": null,
   "id": "1a20b9dd",
   "metadata": {},
   "outputs": [
    {
     "ename": "",
     "evalue": "",
     "output_type": "error",
     "traceback": [
      "\u001b[1;31mFailed to start the Kernel. \n",
      "\u001b[1;31mFailed to start the Kernel 'frame (Python 3.10.8)'. \n",
      "\u001b[1;31mView Jupyter <a href='command:jupyter.viewOutput'>log</a> for further details. No matching bindings found for serviceIdentifier: Symbol(IInterpreterAutoSelectionService)"
     ]
    }
   ],
   "source": [
    "# Fix names and cities functions\n",
    "\n",
    "def names () :\n",
    "    ton_list = []\n",
    "    for t in test[\"Name\"] :\n",
    "            x = str(t)\n",
    "            for ton1 in lista_onomaton :\n",
    "                if x == ton1:\n",
    "                    ton_list.append(\"Τον\")            \n",
    "            if x[-2:] == \"ΟΣ\" or x[-2:] == \"ΗΣ\" :\n",
    "                ton_list.append(\"Τον\")\n",
    "            elif x[-1:] == \"Α\" or x[-1:] == \"Η\":\n",
    "                ton_list.append(\"Την\")\n",
    "            else :\n",
    "                ton_list.append(\"Την\")    \n",
    "    test[\"Ton\"] = ton_list\n",
    "\n",
    "    surname_list = []\n",
    "    \n",
    "    \n",
    "    for t in test[\"Surname\"] :\n",
    "        x = str(t)\n",
    "        if x[-1] == \"Σ\" :\n",
    "            x = x[:-1]\n",
    "        surname_list.append(t)        \n",
    "    test[\"Surname\"] = surname_list        \n",
    "\n",
    "    name_list = []\n",
    "\n",
    "    for t in test[\"Name\"] :\n",
    "        x = str(t)\n",
    "        if x[-1] == \"Σ\" :\n",
    "            x = t[:-1]\n",
    "        name_list.append(t)\n",
    "\n",
    "    test[\"Name\"] = name_list\n",
    "\n",
    "    father_list = []\n",
    "\n",
    "    for t in test[\"Father\"] :\n",
    "        x = str(t)\n",
    "        if x[-2:] == \"ΗΣ\" or x[-2:] == \"ΑΣ\" :\n",
    "            x = x[:-1]\n",
    "        elif x[-2:] == \"ΟΣ\":\n",
    "            x = x[:-1] + \"Y\"\n",
    "    #     print(x)\n",
    "        father_list.append(x)        \n",
    "\n",
    "    test[\"Father\"] = father_list\n",
    "\n",
    "    test\n"
   ]
  },
  {
   "cell_type": "code",
   "execution_count": null,
   "id": "ef0475d0",
   "metadata": {},
   "outputs": [
    {
     "ename": "",
     "evalue": "",
     "output_type": "error",
     "traceback": [
      "\u001b[1;31mFailed to start the Kernel. \n",
      "\u001b[1;31mFailed to start the Kernel 'frame (Python 3.10.8)'. \n",
      "\u001b[1;31mView Jupyter <a href='command:jupyter.viewOutput'>log</a> for further details. No matching bindings found for serviceIdentifier: Symbol(IInterpreterAutoSelectionService)"
     ]
    }
   ],
   "source": [
    "names()"
   ]
  },
  {
   "cell_type": "code",
   "execution_count": null,
   "id": "a47e54cb",
   "metadata": {},
   "outputs": [
    {
     "ename": "",
     "evalue": "",
     "output_type": "error",
     "traceback": [
      "\u001b[1;31mFailed to start the Kernel. \n",
      "\u001b[1;31mFailed to start the Kernel 'frame (Python 3.10.8)'. \n",
      "\u001b[1;31mView Jupyter <a href='command:jupyter.viewOutput'>log</a> for further details. No matching bindings found for serviceIdentifier: Symbol(IInterpreterAutoSelectionService)"
     ]
    }
   ],
   "source": [
    "def cities() :    \n",
    "    \n",
    "    city_list = []\n",
    "\n",
    "    for t in test[\"City\"] :\n",
    "        x = str(t)\n",
    "\n",
    "        for city1, city2 in city_dict.items() :\n",
    "            if x == city1:\n",
    "                x = city2\n",
    "        \n",
    "        if x[-1] == \"Α\" or x[-1] == \"Η\" :\n",
    "            x = x + \"Σ\"\n",
    "        \n",
    "        elif x[-2:] == \"ΑΣ\" :\n",
    "            x = x[:-1]    \n",
    "    \n",
    "        elif x[-2:] == \"ΕΣ\" or x[-2:] == \"ΟΙ\":\n",
    "            x = x[:-2] + \"ΩΝ\"    \n",
    "            \n",
    "        elif x[-1] == \"Ι\"  :\n",
    "            x = x + \"ΟΥ\"\n",
    "\n",
    "        elif x[-1] == \"Ο\"  :\n",
    "            x = x + \"Υ\"\n",
    "\n",
    "        elif x[-2:] == \"ΟΣ\" :\n",
    "            x = x[:-1] + \"Y\"\n",
    "\n",
    "        city_list.append(x)\n",
    "\n",
    "    test[\"City\"] = city_list"
   ]
  },
  {
   "cell_type": "code",
   "execution_count": null,
   "id": "986e1fab",
   "metadata": {},
   "outputs": [
    {
     "ename": "",
     "evalue": "",
     "output_type": "error",
     "traceback": [
      "\u001b[1;31mFailed to start the Kernel. \n",
      "\u001b[1;31mFailed to start the Kernel 'frame (Python 3.10.8)'. \n",
      "\u001b[1;31mView Jupyter <a href='command:jupyter.viewOutput'>log</a> for further details. No matching bindings found for serviceIdentifier: Symbol(IInterpreterAutoSelectionService)"
     ]
    }
   ],
   "source": [
    "names()\n",
    "if len(stoixeia.columns) > 4 :\n",
    "    cities()\n",
    "    \n",
    "    test[\"stoixeia_full\"] = test[\"Ton\"] + \" \" + test[\"Surname\"] + \" \" + test[\"Name\"] + \" \" + \"του \" + test['Father'] + \", κάτοικο \"+ test[\"City\"] + \", οδός \" + test[\"Address\"] + \" αρ. \" + test[\"Number\"] + \", ΤΚ \" + test[\"TK\"] + \", με ΑΦΜ \" + test[\"ΑΦΜ\"] + \".\"\n",
    "test[\"stoixeia\"]=  test[\"Ton\"] + \" \" + test[\"Surname\"] + \" \" + test[\"Name\"] \n",
    "filename = file[60:80]\n",
    "test.to_excel(f\"{filename}.xlsx\", index = False)\n",
    "\n",
    "# os.startfile(f\"{filename}.xslx\")\n"
   ]
  },
  {
   "cell_type": "code",
   "execution_count": null,
   "id": "570ea9f8",
   "metadata": {},
   "outputs": [
    {
     "ename": "",
     "evalue": "",
     "output_type": "error",
     "traceback": [
      "\u001b[1;31mFailed to start the Kernel. \n",
      "\u001b[1;31mFailed to start the Kernel 'frame (Python 3.10.8)'. \n",
      "\u001b[1;31mView Jupyter <a href='command:jupyter.viewOutput'>log</a> for further details. No matching bindings found for serviceIdentifier: Symbol(IInterpreterAutoSelectionService)"
     ]
    }
   ],
   "source": [
    "test"
   ]
  },
  {
   "cell_type": "code",
   "execution_count": null,
   "id": "aff38db0",
   "metadata": {},
   "outputs": [
    {
     "ename": "",
     "evalue": "",
     "output_type": "error",
     "traceback": [
      "\u001b[1;31mFailed to start the Kernel. \n",
      "\u001b[1;31mFailed to start the Kernel 'frame (Python 3.10.8)'. \n",
      "\u001b[1;31mView Jupyter <a href='command:jupyter.viewOutput'>log</a> for further details. No matching bindings found for serviceIdentifier: Symbol(IInterpreterAutoSelectionService)"
     ]
    }
   ],
   "source": []
  }
 ],
 "metadata": {
  "kernelspec": {
   "display_name": "Python 3.10.8 ('frame')",
   "language": "python",
   "name": "python3"
  },
  "language_info": {
   "codemirror_mode": {
    "name": "ipython",
    "version": 3
   },
   "file_extension": ".py",
   "mimetype": "text/x-python",
   "name": "python",
   "nbconvert_exporter": "python",
   "pygments_lexer": "ipython3",
   "version": "3.10.8"
  },
  "vscode": {
   "interpreter": {
    "hash": "7a46061b131d91aee9440cfcfc67501265c864dc4a87769083afe5c961eb8de2"
   }
  }
 },
 "nbformat": 4,
 "nbformat_minor": 5
}
