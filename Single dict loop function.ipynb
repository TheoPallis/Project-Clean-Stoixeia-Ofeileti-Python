{
 "cells": [
  {
   "cell_type": "code",
   "execution_count": 1,
   "metadata": {},
   "outputs": [],
   "source": [
    "# 00 ) Packages\n",
    "import pandas as pd\n",
    "import numpy as np\n",
    "import xlrd\n",
    "import os\n",
    "import pprint\n",
    "from tkinter import filedialog as fd\n",
    "os.chdir(r\"C:\\Users\\pallist\\Desktop\\ΤΡΕΧΟΝΤΑ\\testing folder\")\n",
    "from pandas.api.types import is_string_dtype\n",
    "from pandas.api.types import is_numeric_dtype\n",
    "# pd.options.display.max_rows = 999\n",
    "pd.options.mode.chained_assignment = None "
   ]
  },
  {
   "cell_type": "code",
   "execution_count": 2,
   "metadata": {},
   "outputs": [],
   "source": [
    "# 0 ) Importing Files\n",
    "onomata = pd.read_excel(\"ΒΑΣΗ ΟΝΟΜΑΤΩΝ (ΑΡΣΕΝΙΚΑ).xlsx\")\n",
    "lista_onomaton = onomata.iloc[:,1]\n",
    "file= fd.askopenfilename()\n",
    "stoixeia = pd.read_excel(file)"
   ]
  },
  {
   "cell_type": "code",
   "execution_count": 3,
   "metadata": {},
   "outputs": [
    {
     "ename": "TypeError",
     "evalue": "string indices must be integers",
     "output_type": "error",
     "traceback": [
      "\u001b[1;31m---------------------------------------------------------------------------\u001b[0m",
      "\u001b[1;31mTypeError\u001b[0m                                 Traceback (most recent call last)",
      "\u001b[1;32mUntitled-1.ipynb Cell 3\u001b[0m in \u001b[0;36m<cell line: 10>\u001b[1;34m()\u001b[0m\n\u001b[0;32m      <a href='vscode-notebook-cell:Untitled-1.ipynb?jupyter-notebook#W1sdW50aXRsZWQ%3D?line=7'>8</a>\u001b[0m     dict_paroxoi[paroxos] \u001b[39m=\u001b[39m stoixeia[stoixeia[[\u001b[39m'\u001b[39m\u001b[39mΣΥΜΒΑΣΗ \u001b[39m\u001b[39m'\u001b[39m]] \u001b[39m==\u001b[39m paroxos]\n\u001b[0;32m     <a href='vscode-notebook-cell:Untitled-1.ipynb?jupyter-notebook#W1sdW50aXRsZWQ%3D?line=9'>10</a>\u001b[0m \u001b[39mfor\u001b[39;00m dict_paroxoi[paroxos] \u001b[39min\u001b[39;00m dict_paroxoi :\n\u001b[1;32m---> <a href='vscode-notebook-cell:Untitled-1.ipynb?jupyter-notebook#W1sdW50aXRsZWQ%3D?line=10'>11</a>\u001b[0m     dict_paroxoi[paroxos][\u001b[39m'\u001b[39m\u001b[39mPool\u001b[39m\u001b[39m'\u001b[39m]  \u001b[39m=\u001b[39m dict_paroxoi[paroxos][\u001b[39m'\u001b[39;49m\u001b[39mΑΦΜ \u001b[39;49m\u001b[39m'\u001b[39;49m]\u001b[39m.\u001b[39mvalue_counts()                        \u001b[39m#    2) Για κάθε df παρόχου στο λεξικο παρόχων εφάρμοσε το countif στο ΑΦΜ -> volton(pool1,2,3), nova(pool1,4) \u001b[39;00m\n\u001b[0;32m     <a href='vscode-notebook-cell:Untitled-1.ipynb?jupyter-notebook#W1sdW50aXRsZWQ%3D?line=11'>12</a>\u001b[0m     λίστα_pool_παροχών \u001b[39m=\u001b[39m \u001b[39msorted\u001b[39m(\u001b[39mlist\u001b[39m(dict_paroxoi[paroxos][[\u001b[39m'\u001b[39m\u001b[39mΑΦΜ \u001b[39m\u001b[39m'\u001b[39m]]\u001b[39m.\u001b[39mvalue_counts()\u001b[39m.\u001b[39munique()))           \u001b[39m#❌ 3) Για κάθε df παρόχου δημιούργησε λίστες με τον αριθμό countif \u001b[39;00m\n\u001b[0;32m     <a href='vscode-notebook-cell:Untitled-1.ipynb?jupyter-notebook#W1sdW50aXRsZWQ%3D?line=13'>14</a>\u001b[0m     \u001b[39mfor\u001b[39;00m pool \u001b[39min\u001b[39;00m λίστα_pool_παροχών :                                                     \n",
      "\u001b[1;31mTypeError\u001b[0m: string indices must be integers"
     ]
    }
   ],
   "source": [
    "# 8) Split παροχές\n",
    "\n",
    "dict_paroxoi = {} # 1) Για κάθε ξεχωριστό πάροχο δημιούργησε το φιλτραρισμένο df και εισήγαγέ το στο λεξικό παρόχων\n",
    "   \n",
    "filtered_df_dict = {}\n",
    "\n",
    "for paroxos in stoixeia['ΣΥΜΒΑΣΗ '].unique() :\n",
    "    dict_paroxoi[paroxos] = stoixeia[stoixeia[['ΣΥΜΒΑΣΗ ']] == paroxos]\n",
    "      \n",
    "for dict_paroxoi[paroxos] in dict_paroxoi :\n",
    "    dict_paroxoi[paroxos]['Pool']  = dict_paroxoi[paroxos]['ΑΦΜ '].value_counts()                        #    2) Για κάθε df παρόχου στο λεξικο παρόχων εφάρμοσε το countif στο ΑΦΜ -> volton(pool1,2,3), nova(pool1,4) \n",
    "    λίστα_pool_παροχών = sorted(list(dict_paroxoi[paroxos][['ΑΦΜ ']].value_counts().unique()))           #❌ 3) Για κάθε df παρόχου δημιούργησε λίστες με τον αριθμό countif \n",
    "       \n",
    "    for pool in λίστα_pool_παροχών :                                                     \n",
    "        filtered_df_dict[pool] = dict_paroxoi[paroxos][dict_paroxoi[paroxos][['Pool']]==pool]            #   4) Για κάθε πάροοχο_df, itereate over αριθμό countif στην αντίστοιχη λίστα μοναδικών αριθμών πλήθους παροχών, δημιούργησε το αντίστοιχο filtered df και σώσε το στο κεντρικό filtered_dict "
   ]
  },
  {
   "cell_type": "code",
   "execution_count": null,
   "metadata": {},
   "outputs": [],
   "source": []
  }
 ],
 "metadata": {
  "kernelspec": {
   "display_name": "Python 3.10.8 ('frame')",
   "language": "python",
   "name": "python3"
  },
  "language_info": {
   "codemirror_mode": {
    "name": "ipython",
    "version": 3
   },
   "file_extension": ".py",
   "mimetype": "text/x-python",
   "name": "python",
   "nbconvert_exporter": "python",
   "pygments_lexer": "ipython3",
   "version": "3.10.8"
  },
  "orig_nbformat": 4,
  "vscode": {
   "interpreter": {
    "hash": "7a46061b131d91aee9440cfcfc67501265c864dc4a87769083afe5c961eb8de2"
   }
  }
 },
 "nbformat": 4,
 "nbformat_minor": 2
}
