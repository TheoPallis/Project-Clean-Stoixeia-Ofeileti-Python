{
 "cells": [
  {
   "cell_type": "code",
   "execution_count": null,
   "metadata": {},
   "outputs": [],
   "source": [
    "# 00 ) Packages\n",
    "import pandas as pd\n",
    "import numpy as np\n",
    "import xlrd\n",
    "import os\n",
    "import pprint\n",
    "from tkinter import filedialog as fd\n",
    "os.chdir(r\"C:\\Users\\pallist\\Desktop\\ΤΡΕΧΟΝΤΑ\\testing folder\")\n",
    "from pandas.api.types import is_string_dtype\n",
    "from pandas.api.types import is_numeric_dtype\n",
    "# pd.options.display.max_rows = 999\n",
    "pd.options.mode.chained_assignment = None "
   ]
  },
  {
   "cell_type": "code",
   "execution_count": null,
   "metadata": {},
   "outputs": [],
   "source": [
    "# 0 ) Importing Files\n",
    "onomata = pd.read_excel(\"ΒΑΣΗ ΟΝΟΜΑΤΩΝ (ΑΡΣΕΝΙΚΑ).xlsx\")\n",
    "lista_onomaton = onomata.iloc[:,1]\n",
    "file= fd.askopenfilename()\n",
    "stoixeia = pd.read_excel(file)"
   ]
  },
  {
   "cell_type": "code",
   "execution_count": 13,
   "metadata": {},
   "outputs": [
    {
     "ename": "ValueError",
     "evalue": "Cannot index with multidimensional key",
     "output_type": "error",
     "traceback": [
      "\u001b[1;31m---------------------------------------------------------------------------\u001b[0m",
      "\u001b[1;31mValueError\u001b[0m                                Traceback (most recent call last)",
      "\u001b[1;32mc:\\Users\\pallist\\github\\Project-Clean-Stoixeia-Ofeileti-Python\\Single dict loop function.ipynb Cell 3\u001b[0m in \u001b[0;36m<cell line: 7>\u001b[1;34m()\u001b[0m\n\u001b[0;32m      <a href='vscode-notebook-cell:/c%3A/Users/pallist/github/Project-Clean-Stoixeia-Ofeileti-Python/Single%20dict%20loop%20function.ipynb#W3sZmlsZQ%3D%3D?line=4'>5</a>\u001b[0m filtered_df_dict \u001b[39m=\u001b[39m {}\n\u001b[0;32m      <a href='vscode-notebook-cell:/c%3A/Users/pallist/github/Project-Clean-Stoixeia-Ofeileti-Python/Single%20dict%20loop%20function.ipynb#W3sZmlsZQ%3D%3D?line=6'>7</a>\u001b[0m \u001b[39mfor\u001b[39;00m paroxos \u001b[39min\u001b[39;00m stoixeia[\u001b[39m'\u001b[39m\u001b[39mΣΥΜΒΑΣΗ \u001b[39m\u001b[39m'\u001b[39m]\u001b[39m.\u001b[39munique() :\n\u001b[0;32m      <a href='vscode-notebook-cell:/c%3A/Users/pallist/github/Project-Clean-Stoixeia-Ofeileti-Python/Single%20dict%20loop%20function.ipynb#W3sZmlsZQ%3D%3D?line=7'>8</a>\u001b[0m     \u001b[39m# dict_paroxoi[paroxos] = stoixeia[stoixeia[['ΣΥΜΒΑΣΗ ']] == paroxos]\u001b[39;00m\n\u001b[1;32m----> <a href='vscode-notebook-cell:/c%3A/Users/pallist/github/Project-Clean-Stoixeia-Ofeileti-Python/Single%20dict%20loop%20function.ipynb#W3sZmlsZQ%3D%3D?line=8'>9</a>\u001b[0m     dict_paroxoi[paroxos] \u001b[39m=\u001b[39m stoixeia\u001b[39m.\u001b[39;49mloc[stoixeia[[\u001b[39m'\u001b[39;49m\u001b[39mΣΥΜΒΑΣΗ \u001b[39;49m\u001b[39m'\u001b[39;49m]] \u001b[39m==\u001b[39;49m paroxos]\n",
      "File \u001b[1;32mc:\\Users\\pallist\\frame\\lib\\site-packages\\pandas\\core\\indexing.py:967\u001b[0m, in \u001b[0;36m_LocationIndexer.__getitem__\u001b[1;34m(self, key)\u001b[0m\n\u001b[0;32m    964\u001b[0m axis \u001b[39m=\u001b[39m \u001b[39mself\u001b[39m\u001b[39m.\u001b[39maxis \u001b[39mor\u001b[39;00m \u001b[39m0\u001b[39m\n\u001b[0;32m    966\u001b[0m maybe_callable \u001b[39m=\u001b[39m com\u001b[39m.\u001b[39mapply_if_callable(key, \u001b[39mself\u001b[39m\u001b[39m.\u001b[39mobj)\n\u001b[1;32m--> 967\u001b[0m \u001b[39mreturn\u001b[39;00m \u001b[39mself\u001b[39;49m\u001b[39m.\u001b[39;49m_getitem_axis(maybe_callable, axis\u001b[39m=\u001b[39;49maxis)\n",
      "File \u001b[1;32mc:\\Users\\pallist\\frame\\lib\\site-packages\\pandas\\core\\indexing.py:1189\u001b[0m, in \u001b[0;36m_LocIndexer._getitem_axis\u001b[1;34m(self, key, axis)\u001b[0m\n\u001b[0;32m   1186\u001b[0m \u001b[39mif\u001b[39;00m \u001b[39mnot\u001b[39;00m (\u001b[39misinstance\u001b[39m(key, \u001b[39mtuple\u001b[39m) \u001b[39mand\u001b[39;00m \u001b[39misinstance\u001b[39m(labels, MultiIndex)):\n\u001b[0;32m   1188\u001b[0m     \u001b[39mif\u001b[39;00m \u001b[39mhasattr\u001b[39m(key, \u001b[39m\"\u001b[39m\u001b[39mndim\u001b[39m\u001b[39m\"\u001b[39m) \u001b[39mand\u001b[39;00m key\u001b[39m.\u001b[39mndim \u001b[39m>\u001b[39m \u001b[39m1\u001b[39m:\n\u001b[1;32m-> 1189\u001b[0m         \u001b[39mraise\u001b[39;00m \u001b[39mValueError\u001b[39;00m(\u001b[39m\"\u001b[39m\u001b[39mCannot index with multidimensional key\u001b[39m\u001b[39m\"\u001b[39m)\n\u001b[0;32m   1191\u001b[0m     \u001b[39mreturn\u001b[39;00m \u001b[39mself\u001b[39m\u001b[39m.\u001b[39m_getitem_iterable(key, axis\u001b[39m=\u001b[39maxis)\n\u001b[0;32m   1193\u001b[0m \u001b[39m# nested tuple slicing\u001b[39;00m\n",
      "\u001b[1;31mValueError\u001b[0m: Cannot index with multidimensional key"
     ]
    }
   ],
   "source": [
    "# 8) Split παροχές\n",
    "\n",
    "dict_paroxoi = {} # 1) Για κάθε ξεχωριστό πάροχο δημιούργησε το φιλτραρισμένο df και εισήγαγέ το στο λεξικό παρόχων\n",
    "   \n",
    "filtered_df_dict = {}\n",
    "\n",
    "for paroxos in stoixeia['ΣΥΜΒΑΣΗ '].unique() :\n",
    "    # dict_paroxoi[paroxos] = stoixeia[stoixeia[['ΣΥΜΒΑΣΗ ']] == paroxos] -> not workingwith volton eg\n",
    "    # dict_paroxoi[paroxos] = stoixeia.loc[stoixeia[['ΣΥΜΒΑΣΗ ']] == paroxos] -> Cannot index with multidimensional key\n",
    "\n",
    "# Inspect create VOLTON df\n",
    "# dict_paroxoi['VOLTON'].loc[stoixeia[['ΣΥΜΒΑΣΗ']]== 'VOLTON']\n",
    "\n",
    "\n",
    "\n",
    "\n",
    "\n",
    "\n",
    "\n",
    "\n",
    "# for dict_paroxoi[paroxos] in dict_paroxoi :\n",
    "#     dict_paroxoi[paroxos]['Pool']  = dict_paroxoi[paroxos]['ΑΦΜ '].value_counts()                        #    2) Για κάθε df παρόχου στο λεξικο παρόχων εφάρμοσε το countif στο ΑΦΜ -> volton(pool1,2,3), nova(pool1,4) \n",
    "#     λίστα_pool_παροχών = sorted(list(dict_paroxoi[paroxos][['ΑΦΜ ']].value_counts().unique()))           #❌ 3) Για κάθε df παρόχου δημιούργησε λίστες με τον αριθμό countif \n",
    "       \n",
    "#     for pool in λίστα_pool_παροχών :                                                     \n",
    "#         filtered_df_dict[pool] = dict_paroxoi[paroxos][dict_paroxoi[paroxos][['Pool']]==pool]            #   4) Για κάθε πάροοχο_df, itereate over αριθμό countif στην αντίστοιχη λίστα μοναδικών αριθμών πλήθους παροχών, δημιούργησε το αντίστοιχο filtered df και σώσε το στο κεντρικό filtered_dict "
   ]
  },
  {
   "cell_type": "code",
   "execution_count": null,
   "metadata": {},
   "outputs": [],
   "source": []
  }
 ],
 "metadata": {
  "kernelspec": {
   "display_name": "Python 3.10.8 ('frame')",
   "language": "python",
   "name": "python3"
  },
  "language_info": {
   "codemirror_mode": {
    "name": "ipython",
    "version": 3
   },
   "file_extension": ".py",
   "mimetype": "text/x-python",
   "name": "python",
   "nbconvert_exporter": "python",
   "pygments_lexer": "ipython3",
   "version": "3.10.8"
  },
  "orig_nbformat": 4,
  "vscode": {
   "interpreter": {
    "hash": "7a46061b131d91aee9440cfcfc67501265c864dc4a87769083afe5c961eb8de2"
   }
  }
 },
 "nbformat": 4,
 "nbformat_minor": 2
}
